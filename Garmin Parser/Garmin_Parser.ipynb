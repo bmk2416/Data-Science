{
 "cells": [
  {
   "cell_type": "markdown",
   "metadata": {},
   "source": [
    "# Garmin Connect Data Parser and Visualizer\n",
    "Documentation for Garmin connect python library: https://pypi.org/project/garminconnect/<br>\n",
    "to Do:<br>\n",
    "add a pull each day"
   ]
  },
  {
   "cell_type": "markdown",
   "metadata": {},
   "source": [
    "### Import Libraries"
   ]
  },
  {
   "cell_type": "code",
   "execution_count": 21,
   "metadata": {
    "notebookRunGroups": {
     "groupValue": "1"
    }
   },
   "outputs": [],
   "source": [
    "import polars as pl\n",
    "import matplotlib.pyplot as plt\n",
    "from garminconnect import Garmin, GarminConnectConnectionError, GarminConnectTooManyRequestsError, GarminConnectAuthenticationError\n",
    "import datetime\n",
    "import logging\n",
    "import keys"
   ]
  },
  {
   "cell_type": "markdown",
   "metadata": {},
   "source": [
    "### Initialize Garmin API with credentials and Connect to portal"
   ]
  },
  {
   "cell_type": "code",
   "execution_count": null,
   "metadata": {
    "notebookRunGroups": {
     "groupValue": "1"
    }
   },
   "outputs": [],
   "source": [
    "try:\n",
    "    api = Garmin(keys.garmin_api, keys.garmin_password)\n",
    "    api.login()\n",
    "except (\n",
    "        GarminConnectConnectionError,\n",
    "        GarminConnectAuthenticationError,\n",
    "        GarminConnectTooManyRequestsError,\n",
    "    ) as err:\n",
    "    print(err)"
   ]
  },
  {
   "cell_type": "markdown",
   "metadata": {},
   "source": [
    "### Set Logging"
   ]
  },
  {
   "cell_type": "code",
   "execution_count": null,
   "metadata": {},
   "outputs": [],
   "source": [
    "logging.basicConfig(level=logging.DEBUG)\n",
    "logger = logging.getLogger(__name__)"
   ]
  },
  {
   "cell_type": "markdown",
   "metadata": {},
   "source": [
    "### Set Timeframe Variables"
   ]
  },
  {
   "cell_type": "code",
   "execution_count": null,
   "metadata": {
    "notebookRunGroups": {
     "groupValue": "1"
    }
   },
   "outputs": [],
   "source": [
    "today = datetime.date.today()"
   ]
  },
  {
   "cell_type": "code",
   "execution_count": null,
   "metadata": {},
   "outputs": [],
   "source": [
    "hr_df = pl.DataFrame(columns=['Date', 'Max HR','' 'Min HR'])"
   ]
  },
  {
   "cell_type": "markdown",
   "metadata": {},
   "source": [
    "### Get Data"
   ]
  },
  {
   "cell_type": "code",
   "execution_count": null,
   "metadata": {},
   "outputs": [],
   "source": [
    "## Get heart rate data for today 'YYYY-MM-DD'\n",
    "hr = api.get_heart_rates(today.isoformat())\n",
    "\n",
    "date = hr['endTimestampLocal']\n",
    "max_hr = hr['maxHeartRate']\n",
    "min_hr = hr['minHeartRate']\n",
    "\n",
    "hr_df.loc[len(df)] = [date, max_hr, min_hr]"
   ]
  },
  {
   "cell_type": "code",
   "execution_count": null,
   "metadata": {},
   "outputs": [],
   "source": [
    "## Get sleep data for today 'YYYY-MM-DD'\n",
    "sleep = api.get_sleep_data(today.isoformat())"
   ]
  },
  {
   "cell_type": "markdown",
   "metadata": {},
   "source": [
    "### Visualize"
   ]
  },
  {
   "cell_type": "code",
   "execution_count": null,
   "metadata": {},
   "outputs": [],
   "source": [
    "plt.figure(figsize=(5,4), dpi=100)\n",
    "plt.plot(hr_df['Date'], hr_df['Max HR'])\n",
    "\n",
    "plt.show()\n",
    "\n",
    "db = mysql.connect()"
   ]
  }
 ],
 "metadata": {
  "kernelspec": {
   "display_name": "Python 3.10.4 64-bit",
   "language": "python",
   "name": "python3"
  },
  "language_info": {
   "codemirror_mode": {
    "name": "ipython",
    "version": 3
   },
   "file_extension": ".py",
   "mimetype": "text/x-python",
   "name": "python",
   "nbconvert_exporter": "python",
   "pygments_lexer": "ipython3",
   "version": "3.11.2"
  },
  "orig_nbformat": 4,
  "vscode": {
   "interpreter": {
    "hash": "5b8e22f8a33f094a3cabe55fede2b89208bfd8c2468301e5a1fc737924dde8f9"
   }
  }
 },
 "nbformat": 4,
 "nbformat_minor": 2
}
