{
 "cells": [
  {
   "cell_type": "markdown",
   "metadata": {},
   "source": [
    "# VirusTotal API PullDown\n",
    "\n",
    "Ver: 1.0\n",
    "Date: 11/1/2021"
   ]
  },
  {
   "cell_type": "markdown",
   "metadata": {},
   "source": [
    "# Import libraries"
   ]
  },
  {
   "cell_type": "code",
   "execution_count": null,
   "metadata": {},
   "outputs": [],
   "source": [
    "import pandas as pd \n",
    "import requests \n",
    "import json\n",
    "import key"
   ]
  },
  {
   "cell_type": "markdown",
   "metadata": {},
   "source": [
    "# Response -> JSON function\n",
    "\n",
    "Function for converting JSON data to writeable data"
   ]
  },
  {
   "cell_type": "code",
   "execution_count": null,
   "metadata": {},
   "outputs": [],
   "source": [
    "# def convert_to_json(vars)\n",
    "#     response_json = [vars]\n",
    "#     return response_json"
   ]
  },
  {
   "cell_type": "markdown",
   "metadata": {},
   "source": [
    "# VT authentication"
   ]
  },
  {
   "cell_type": "code",
   "execution_count": null,
   "metadata": {},
   "outputs": [],
   "source": [
    "url = ''\n",
    "params = {'apikey': key.api_key, 'url': url}\n",
    "# TODO edit to break out key and URL input"
   ]
  },
  {
   "cell_type": "markdown",
   "metadata": {},
   "source": [
    "# Scan a URL"
   ]
  },
  {
   "cell_type": "code",
   "execution_count": null,
   "metadata": {},
   "outputs": [],
   "source": [
    "response = requests.post('https://www.virustotal.com/vtapi/v2/url/scan', data=params)"
   ]
  },
  {
   "cell_type": "markdown",
   "metadata": {},
   "source": [
    "# Validate if Successful"
   ]
  },
  {
   "cell_type": "code",
   "execution_count": null,
   "metadata": {},
   "outputs": [],
   "source": [
    "# with request.urlopen('http://data.nba.net/prod/v2/2018/teams.json') as response:\n",
    "#         if response.getcode() == 200:\n",
    "#             source = response.read()\n",
    "#             data = json.loads(source)\n",
    "#         else:\n",
    "#             print('An error occurred while attempting to retrieve data from the API.')"
   ]
  },
  {
   "cell_type": "markdown",
   "metadata": {},
   "source": [
    "# Parse the JSON (as dict)"
   ]
  },
  {
   "cell_type": "code",
   "execution_count": null,
   "metadata": {},
   "outputs": [],
   "source": [
    "response_json = response.json() # Returns a dict file\n",
    "df = pd.set_option('display.width', 1000)\n",
    "df = pd.DataFrame.from_dict(response_json, orient='index')\n",
    "display(df)\n",
    "\n",
    "# for key, value in response_json.items():\n",
    "#     with open('new.csv', 'w') as output:\n",
    "#         print(key, value)"
   ]
  }
 ],
 "metadata": {
  "kernelspec": {
   "display_name": "Python 3.10.4 64-bit",
   "language": "python",
   "name": "python3"
  },
  "language_info": {
   "codemirror_mode": {
    "name": "ipython",
    "version": 3
   },
   "file_extension": ".py",
   "mimetype": "text/x-python",
   "name": "python",
   "nbconvert_exporter": "python",
   "pygments_lexer": "ipython3",
   "version": "3.10.4"
  },
  "orig_nbformat": 4,
  "vscode": {
   "interpreter": {
    "hash": "5b8e22f8a33f094a3cabe55fede2b89208bfd8c2468301e5a1fc737924dde8f9"
   }
  }
 },
 "nbformat": 4,
 "nbformat_minor": 2
}
