{
 "cells": [
  {
   "cell_type": "markdown",
   "metadata": {},
   "source": [
    "# Stock Predictor"
   ]
  },
  {
   "cell_type": "markdown",
   "metadata": {},
   "source": [
    "### Dependencies"
   ]
  },
  {
   "cell_type": "code",
   "execution_count": null,
   "metadata": {},
   "outputs": [],
   "source": [
    "%pip install pandas\n",
    "%pip install seaborn\n",
    "%pip install sklearn \n",
    "%pip install numpy\n",
    "%pip install matplotlib.pyplot"
   ]
  },
  {
   "cell_type": "markdown",
   "metadata": {},
   "source": [
    "### Import Libraries"
   ]
  },
  {
   "cell_type": "code",
   "execution_count": null,
   "metadata": {
    "notebookRunGroups": {
     "groupValue": "1"
    }
   },
   "outputs": [],
   "source": [
    "import pandas as pd # For reading in data\n",
    "import numpy as np\n",
    "import matplotlib.pyplot as plt\n",
    "import seaborn as sns\n",
    "from sklearn.linear_model import LinearRegression # For ML Tools\n",
    "from sklearn.metrics import r2_score\n",
    "import stocker"
   ]
  },
  {
   "cell_type": "markdown",
   "metadata": {},
   "source": [
    "#### Load Dataset"
   ]
  },
  {
   "cell_type": "code",
   "execution_count": 2,
   "metadata": {},
   "outputs": [],
   "source": [
    "# # Manually Download CSV From Yahoo Finance under Historical Data\n",
    "# df = pd.read_csv(\"AMD.csv\", index_col=\"Date\", parse_dates = True)\n",
    "amd = 'AMD'\n",
    "x = stocker.predict.run('AMD')\n",
    "print(x)"
   ]
  },
  {
   "cell_type": "code",
   "execution_count": null,
   "metadata": {},
   "outputs": [],
   "source": [
    "amd.plot_stock()"
   ]
  },
  {
   "cell_type": "markdown",
   "metadata": {},
   "source": [
    "#### Create a second dataframe and X and Y variables for training"
   ]
  },
  {
   "cell_type": "code",
   "execution_count": null,
   "metadata": {},
   "outputs": [],
   "source": [
    "df2 = df.copy()\n",
    "\n",
    "# Create a new column called \"Numbers\"  that ranges from 0 to the lenght of the data set\n",
    "df2[\"Numbers\"] = list(range(0,len(df2)))\n",
    "\n",
    "# Store the \"Numbers\" column into a variable called 'X' as an array\n",
    "X = np.array(df2[[\"Numbers\"]])\n",
    "\n",
    "# Store the 'Close' price as an array in a variable called 'y'\n",
    "y = df2['Close'].values\n",
    "\n",
    "df2.tail()"
   ]
  },
  {
   "cell_type": "markdown",
   "metadata": {},
   "source": [
    "#### Create and train the model"
   ]
  },
  {
   "cell_type": "code",
   "execution_count": null,
   "metadata": {},
   "outputs": [],
   "source": [
    "lin_model = LinearRegression().fit(X,y)\n",
    "\n",
    "print('Intercept:',lin_model.intercept_)\n",
    "print('Slope:',lin_model.coef_)"
   ]
  },
  {
   "cell_type": "markdown",
   "metadata": {},
   "source": [
    "#### Clean the data for visualization"
   ]
  },
  {
   "cell_type": "code",
   "execution_count": null,
   "metadata": {},
   "outputs": [],
   "source": [
    "# get the predicted price from the model and store them into a variable called y_pred\n",
    "# Equation of the line y = m*x + b\n",
    "y_pred = lin_model.coef_ * X + lin_model.intercept\n",
    "\n",
    "# Store the predict values in a new column called Pred\n",
    "df2['Pred'] = y_pred"
   ]
  },
  {
   "cell_type": "markdown",
   "metadata": {},
   "source": [
    "#### Plot Data"
   ]
  },
  {
   "cell_type": "code",
   "execution_count": null,
   "metadata": {},
   "outputs": [],
   "source": [
    "# Plot the data\n",
    "fig, ax = plt.subplots(figsize =(9,6),dpi = 72)\n",
    "df2[\"Pred\"].plot()\n",
    "df2['Close'].plot()\n",
    "plt.title('Close Price History')\n",
    "plt.figure(figsize=(25,15))\n",
    "\n",
    "plt.show()"
   ]
  },
  {
   "cell_type": "markdown",
   "metadata": {},
   "source": [
    "#### Accuracy testing"
   ]
  },
  {
   "cell_type": "code",
   "execution_count": null,
   "metadata": {},
   "outputs": [],
   "source": [
    "# How good is the model?\n",
    "r2_score(df2['Close'],df2['Pred'])"
   ]
  },
  {
   "cell_type": "markdown",
   "metadata": {},
   "source": [
    "#### Future Price"
   ]
  },
  {
   "cell_type": "code",
   "execution_count": null,
   "metadata": {},
   "outputs": [],
   "source": [
    "# Show the possible price fot the nest day based on the model\n",
    "lin_model.coef_*len(df2) + 1 + lin_model.intercept_"
   ]
  }
 ],
 "metadata": {
  "interpreter": {
   "hash": "5b8e22f8a33f094a3cabe55fede2b89208bfd8c2468301e5a1fc737924dde8f9"
  },
  "kernelspec": {
   "display_name": "Python 3.10.4 64-bit",
   "language": "python",
   "name": "python3"
  },
  "language_info": {
   "codemirror_mode": {
    "name": "ipython",
    "version": 3
   },
   "file_extension": ".py",
   "mimetype": "text/x-python",
   "name": "python",
   "nbconvert_exporter": "python",
   "pygments_lexer": "ipython3",
   "version": "3.10.4"
  },
  "orig_nbformat": 4
 },
 "nbformat": 4,
 "nbformat_minor": 2
}
